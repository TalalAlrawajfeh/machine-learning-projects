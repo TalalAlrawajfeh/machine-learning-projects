{
  "nbformat": 4,
  "nbformat_minor": 0,
  "metadata": {
    "colab": {
      "name": "mnist_denoising_autoencoder.ipynb",
      "provenance": []
    },
    "kernelspec": {
      "name": "python3",
      "display_name": "Python 3"
    },
    "language_info": {
      "name": "python"
    },
    "accelerator": "GPU"
  },
  "cells": [
    {
      "cell_type": "code",
      "metadata": {
        "id": "Nj1bVOh1Uyb1"
      },
      "source": [
        "import random\n",
        "\n",
        "import numpy as np\n",
        "import cv2\n",
        "import tensorflow as tf\n",
        "import itertools\n",
        "\n",
        "from tensorflow.keras.datasets import mnist\n",
        "from tensorflow.keras import Model\n",
        "from tensorflow.keras.layers import Input, Conv2D, ReLU, BatchNormalization, MaxPooling2D, UpSampling2D\n",
        "from matplotlib import pyplot as plt"
      ],
      "execution_count": 15,
      "outputs": []
    },
    {
      "cell_type": "code",
      "metadata": {
        "id": "Dk73davGU0Va"
      },
      "source": [
        "def random_speckle(image, speckle_percentage, color_lambda):\n",
        "    image_copy = np.array(image)\n",
        "\n",
        "    speckles_count = int(np.prod(image.shape) * speckle_percentage)\n",
        "    speckle_coordinates = random.sample(list(itertools.product(range(image.shape[0]),\n",
        "                                                               range(image.shape[1]))),\n",
        "                                        speckles_count)\n",
        "\n",
        "    for coordinate in speckle_coordinates:\n",
        "        y, x = coordinate\n",
        "        image_copy[y, x] = color_lambda()\n",
        "\n",
        "    return image_copy\n",
        "\n",
        "\n",
        "def view_image(image):\n",
        "    plt.imshow(image, plt.cm.gray)\n",
        "    plt.show()\n",
        "\n",
        "\n",
        "def random_bool():\n",
        "    if random.randint(1, 10) <= 5:\n",
        "        return True\n",
        "    return False\n",
        "\n",
        "\n",
        "def shuffle_data(train_input_images, train_output_images):\n",
        "    indices = list(range(len(train_input_images)))\n",
        "    random.shuffle(indices)\n",
        "    temp_input_images = []\n",
        "    temp_output_images = []\n",
        "    for i in range(len(indices)):\n",
        "        temp_input_images.append(train_input_images[indices[i]])\n",
        "        temp_output_images.append(train_output_images[indices[i]])\n",
        "    train_input_images = temp_input_images\n",
        "    train_output_images = temp_output_images\n",
        "    return train_input_images, train_output_images\n",
        "\n",
        "\n",
        "def generate_input_output_images(train_images):\n",
        "    train_input_images = []\n",
        "    train_output_images = []\n",
        "    for image in train_images:\n",
        "        train_output_images.extend([image] * 5)\n",
        "        train_input_images.extend([\n",
        "            image,\n",
        "            random_speckle(image, 0.05, lambda: 255),\n",
        "            random_speckle(image, 0.05, lambda: 0),\n",
        "            random_speckle(image, 0.05, lambda: random.randint(0, 255)),\n",
        "            random_speckle(image, 0.05, lambda: 0 if random_bool() else 255),\n",
        "        ])\n",
        "    return train_input_images, train_output_images"
      ],
      "execution_count": 16,
      "outputs": []
    },
    {
      "cell_type": "code",
      "metadata": {
        "id": "SlfIYKhLChdk"
      },
      "source": [
        "def stacked_conv(filters, model):\n",
        "    model = Conv2D(filters=filters,\n",
        "                   kernel_size=(3, 3),\n",
        "                   padding='same',\n",
        "                   use_bias=False,\n",
        "                   kernel_initializer='he_normal')(model)\n",
        "    model = BatchNormalization()(model)\n",
        "    model = ReLU()(model)\n",
        "    model = Conv2D(filters=filters,\n",
        "                   kernel_size=(3, 3),\n",
        "                   padding='same',\n",
        "                   use_bias=False,\n",
        "                   kernel_initializer='he_normal')(model)\n",
        "    model = BatchNormalization()(model)\n",
        "    model = ReLU()(model)\n",
        "    return model\n",
        "\n",
        "\n",
        "def conv_block(model, filters, pooling=True):\n",
        "    model = stacked_conv(filters, model)\n",
        "    if pooling:\n",
        "        model = MaxPooling2D(pool_size=(2, 2))(model)\n",
        "    return model\n",
        "\n",
        "\n",
        "def deconv_block(model, filters, up_sampling=True):\n",
        "    model = stacked_conv(filters, model)\n",
        "    if up_sampling:\n",
        "        model = UpSampling2D(size=(2, 2))(model)\n",
        "    return model\n",
        "\n",
        "\n",
        "def build_model():\n",
        "    input_layer = Input(shape=(28, 28, 1))\n",
        "\n",
        "    encoder = conv_block(input_layer, 8)\n",
        "    encoder = conv_block(encoder, 16)\n",
        "    encoder = conv_block(encoder, 32, False)\n",
        "    encoder = conv_block(encoder, 64, False)\n",
        "\n",
        "    decoder = deconv_block(encoder, 32, False)\n",
        "    decoder = deconv_block(decoder, 16, True)\n",
        "    decoder = deconv_block(decoder, 8, True)\n",
        "\n",
        "    decoded = Conv2D(1, (3, 3), activation='sigmoid', padding='same')(decoder)\n",
        "    return Model(inputs=input_layer, outputs=decoded)\n",
        "\n",
        "\n",
        "def pre_process(image):\n",
        "    return (image / 255.0).reshape(28, 28, 1)\n",
        "\n",
        "\n",
        "def generate_data(images):\n",
        "    input_images, output_images = generate_input_output_images(random.sample(list(images), len(images) // 4))\n",
        "    input_images, output_images = shuffle_data(input_images, output_images)\n",
        "    input_images = [pre_process(image) for image in input_images]\n",
        "    output_images = [pre_process(image) for image in output_images]\n",
        "    return input_images, output_images"
      ],
      "execution_count": 17,
      "outputs": []
    },
    {
      "cell_type": "code",
      "metadata": {
        "colab": {
          "base_uri": "https://localhost:8080/",
          "height": 513
        },
        "id": "m8Ayc5ePVKN8",
        "outputId": "6b067c62-6e97-414e-ef06-3390a97cfa91"
      },
      "source": [
        "(train_images, _), (test_images, _) = mnist.load_data()\n",
        "\n",
        "train_input_images, train_output_images = generate_data(train_images)\n",
        "test_input_images, test_output_images = generate_data(test_images)\n",
        "\n",
        "view_image(train_input_images[0].reshape(28, 28) * 255)\n",
        "view_image(train_output_images[0].reshape(28, 28) * 255)"
      ],
      "execution_count": 18,
      "outputs": [
        {
          "output_type": "display_data",
          "data": {
            "image/png": "[encoded data removed]",
            "text/plain": [
              "<Figure size 432x288 with 1 Axes>"
            ]
          },
          "metadata": {
            "tags": [],
            "needs_background": "light"
          }
        },
        {
          "output_type": "display_data",
          "data": {
            "image/png": "[encoded data removed]",
            "text/plain": [
              "<Figure size 432x288 with 1 Axes>"
            ]
          },
          "metadata": {
            "tags": [],
            "needs_background": "light"
          }
        }
      ]
    },
    {
      "cell_type": "code",
      "metadata": {
        "colab": {
          "base_uri": "https://localhost:8080/"
        },
        "id": "_lJ3w2zUVU9j",
        "outputId": "78535792-2f5d-4b13-946a-d603641db773"
      },
      "source": [
        "model = build_model()\n",
        "model.summary()"
      ],
      "execution_count": 19,
      "outputs": [
        {
          "output_type": "stream",
          "text": [
            "Model: \"model_3\"\n",
            "_________________________________________________________________\n",
            "Layer (type)                 Output Shape              Param #   \n",
            "=================================================================\n",
            "input_4 (InputLayer)         [(None, 28, 28, 1)]       0         \n",
            "_________________________________________________________________\n",
            "conv2d_45 (Conv2D)           (None, 28, 28, 8)         72        \n",
            "_________________________________________________________________\n",
            "batch_normalization_42 (Batc (None, 28, 28, 8)         32        \n",
            "_________________________________________________________________\n",
            "re_lu_42 (ReLU)              (None, 28, 28, 8)         0         \n",
            "_________________________________________________________________\n",
            "conv2d_46 (Conv2D)           (None, 28, 28, 8)         576       \n",
            "_________________________________________________________________\n",
            "batch_normalization_43 (Batc (None, 28, 28, 8)         32        \n",
            "_________________________________________________________________\n",
            "re_lu_43 (ReLU)              (None, 28, 28, 8)         0         \n",
            "_________________________________________________________________\n",
            "max_pooling2d_6 (MaxPooling2 (None, 14, 14, 8)         0         \n",
            "_________________________________________________________________\n",
            "conv2d_47 (Conv2D)           (None, 14, 14, 16)        1152      \n",
            "_________________________________________________________________\n",
            "batch_normalization_44 (Batc (None, 14, 14, 16)        64        \n",
            "_________________________________________________________________\n",
            "re_lu_44 (ReLU)              (None, 14, 14, 16)        0         \n",
            "_________________________________________________________________\n",
            "conv2d_48 (Conv2D)           (None, 14, 14, 16)        2304      \n",
            "_________________________________________________________________\n",
            "batch_normalization_45 (Batc (None, 14, 14, 16)        64        \n",
            "_________________________________________________________________\n",
            "re_lu_45 (ReLU)              (None, 14, 14, 16)        0         \n",
            "_________________________________________________________________\n",
            "max_pooling2d_7 (MaxPooling2 (None, 7, 7, 16)          0         \n",
            "_________________________________________________________________\n",
            "conv2d_49 (Conv2D)           (None, 7, 7, 32)          4608      \n",
            "_________________________________________________________________\n",
            "batch_normalization_46 (Batc (None, 7, 7, 32)          128       \n",
            "_________________________________________________________________\n",
            "re_lu_46 (ReLU)              (None, 7, 7, 32)          0         \n",
            "_________________________________________________________________\n",
            "conv2d_50 (Conv2D)           (None, 7, 7, 32)          9216      \n",
            "_________________________________________________________________\n",
            "batch_normalization_47 (Batc (None, 7, 7, 32)          128       \n",
            "_________________________________________________________________\n",
            "re_lu_47 (ReLU)              (None, 7, 7, 32)          0         \n",
            "_________________________________________________________________\n",
            "conv2d_51 (Conv2D)           (None, 7, 7, 64)          18432     \n",
            "_________________________________________________________________\n",
            "batch_normalization_48 (Batc (None, 7, 7, 64)          256       \n",
            "_________________________________________________________________\n",
            "re_lu_48 (ReLU)              (None, 7, 7, 64)          0         \n",
            "_________________________________________________________________\n",
            "conv2d_52 (Conv2D)           (None, 7, 7, 64)          36864     \n",
            "_________________________________________________________________\n",
            "batch_normalization_49 (Batc (None, 7, 7, 64)          256       \n",
            "_________________________________________________________________\n",
            "re_lu_49 (ReLU)              (None, 7, 7, 64)          0         \n",
            "_________________________________________________________________\n",
            "conv2d_53 (Conv2D)           (None, 7, 7, 32)          18432     \n",
            "_________________________________________________________________\n",
            "batch_normalization_50 (Batc (None, 7, 7, 32)          128       \n",
            "_________________________________________________________________\n",
            "re_lu_50 (ReLU)              (None, 7, 7, 32)          0         \n",
            "_________________________________________________________________\n",
            "conv2d_54 (Conv2D)           (None, 7, 7, 32)          9216      \n",
            "_________________________________________________________________\n",
            "batch_normalization_51 (Batc (None, 7, 7, 32)          128       \n",
            "_________________________________________________________________\n",
            "re_lu_51 (ReLU)              (None, 7, 7, 32)          0         \n",
            "_________________________________________________________________\n",
            "conv2d_55 (Conv2D)           (None, 7, 7, 16)          4608      \n",
            "_________________________________________________________________\n",
            "batch_normalization_52 (Batc (None, 7, 7, 16)          64        \n",
            "_________________________________________________________________\n",
            "re_lu_52 (ReLU)              (None, 7, 7, 16)          0         \n",
            "_________________________________________________________________\n",
            "conv2d_56 (Conv2D)           (None, 7, 7, 16)          2304      \n",
            "_________________________________________________________________\n",
            "batch_normalization_53 (Batc (None, 7, 7, 16)          64        \n",
            "_________________________________________________________________\n",
            "re_lu_53 (ReLU)              (None, 7, 7, 16)          0         \n",
            "_________________________________________________________________\n",
            "up_sampling2d_6 (UpSampling2 (None, 14, 14, 16)        0         \n",
            "_________________________________________________________________\n",
            "conv2d_57 (Conv2D)           (None, 14, 14, 8)         1152      \n",
            "_________________________________________________________________\n",
            "batch_normalization_54 (Batc (None, 14, 14, 8)         32        \n",
            "_________________________________________________________________\n",
            "re_lu_54 (ReLU)              (None, 14, 14, 8)         0         \n",
            "_________________________________________________________________\n",
            "conv2d_58 (Conv2D)           (None, 14, 14, 8)         576       \n",
            "_________________________________________________________________\n",
            "batch_normalization_55 (Batc (None, 14, 14, 8)         32        \n",
            "_________________________________________________________________\n",
            "re_lu_55 (ReLU)              (None, 14, 14, 8)         0         \n",
            "_________________________________________________________________\n",
            "up_sampling2d_7 (UpSampling2 (None, 28, 28, 8)         0         \n",
            "_________________________________________________________________\n",
            "conv2d_59 (Conv2D)           (None, 28, 28, 1)         73        \n",
            "=================================================================\n",
            "Total params: 110,993\n",
            "Trainable params: 110,289\n",
            "Non-trainable params: 704\n",
            "_________________________________________________________________\n"
          ],
          "name": "stdout"
        }
      ]
    },
    {
      "cell_type": "code",
      "metadata": {
        "colab": {
          "base_uri": "https://localhost:8080/"
        },
        "id": "a5c6atEAVp5o",
        "outputId": "36932228-9b95-47dc-dcfb-e75ab75ebfd6"
      },
      "source": [
        "model.compile(optimizer='rmsprop',\n",
        "              loss='mse')\n",
        "\n",
        "model.fit(x=np.array(train_input_images),\n",
        "          y=np.array(train_output_images),\n",
        "          validation_data=(np.array(test_input_images),\n",
        "                            np.array(test_output_images)),\n",
        "          batch_size=32,\n",
        "          validation_batch_size=32,\n",
        "          epochs=10)"
      ],
      "execution_count": 20,
      "outputs": [
        {
          "output_type": "stream",
          "text": [
            "Epoch 1/10\n",
            "2344/2344 [==============================] - 26s 10ms/step - loss: 0.0235 - val_loss: 0.0062\n",
            "Epoch 2/10\n",
            "2344/2344 [==============================] - 24s 10ms/step - loss: 0.0059 - val_loss: 0.0048\n",
            "Epoch 3/10\n",
            "2344/2344 [==============================] - 24s 10ms/step - loss: 0.0047 - val_loss: 0.0046\n",
            "Epoch 4/10\n",
            "2344/2344 [==============================] - 24s 10ms/step - loss: 0.0042 - val_loss: 0.0035\n",
            "Epoch 5/10\n",
            "2344/2344 [==============================] - 23s 10ms/step - loss: 0.0038 - val_loss: 0.0039\n",
            "Epoch 6/10\n",
            "2344/2344 [==============================] - 23s 10ms/step - loss: 0.0036 - val_loss: 0.0034\n",
            "Epoch 7/10\n",
            "2344/2344 [==============================] - 23s 10ms/step - loss: 0.0034 - val_loss: 0.0036\n",
            "Epoch 8/10\n",
            "2344/2344 [==============================] - 23s 10ms/step - loss: 0.0032 - val_loss: 0.0032\n",
            "Epoch 9/10\n",
            "2344/2344 [==============================] - 23s 10ms/step - loss: 0.0031 - val_loss: 0.0029\n",
            "Epoch 10/10\n",
            "2344/2344 [==============================] - 23s 10ms/step - loss: 0.0030 - val_loss: 0.0029\n"
          ],
          "name": "stdout"
        },
        {
          "output_type": "execute_result",
          "data": {
            "text/plain": [
              "<tensorflow.python.keras.callbacks.History at 0x7ff3227007d0>"
            ]
          },
          "metadata": {
            "tags": []
          },
          "execution_count": 20
        }
      ]
    },
    {
      "cell_type": "code",
      "metadata": {
        "colab": {
          "base_uri": "https://localhost:8080/",
          "height": 812
        },
        "id": "oh-WFGnQVs-c",
        "outputId": "0dbb8135-ceaf-4290-ea96-2afcef315909"
      },
      "source": [
        "print('input image:')\n",
        "view_image(test_input_images[0].reshape(28, 28) * 255)\n",
        "print('predicted output:')\n",
        "view_image(model.predict(np.array([test_input_images[0]]))[0].reshape(28, 28) * 255)\n",
        "print('true output:')\n",
        "view_image(test_output_images[0].reshape(28, 28) * 255)"
      ],
      "execution_count": 22,
      "outputs": [
        {
          "output_type": "stream",
          "text": [
            "input image:\n"
          ],
          "name": "stdout"
        },
        {
          "output_type": "display_data",
          "data": {
            "image/png": "[encoded data removed]",
            "text/plain": [
              "<Figure size 432x288 with 1 Axes>"
            ]
          },
          "metadata": {
            "tags": [],
            "needs_background": "light"
          }
        },
        {
          "output_type": "stream",
          "text": [
            "predicted output:\n"
          ],
          "name": "stdout"
        },
        {
          "output_type": "display_data",
          "data": {
            "image/png": "[encoded data removed]",
            "text/plain": [
              "<Figure size 432x288 with 1 Axes>"
            ]
          },
          "metadata": {
            "tags": [],
            "needs_background": "light"
          }
        },
        {
          "output_type": "stream",
          "text": [
            "true output:\n"
          ],
          "name": "stdout"
        },
        {
          "output_type": "display_data",
          "data": {
            "image/png": "[encoded data removed]",
            "text/plain": [
              "<Figure size 432x288 with 1 Axes>"
            ]
          },
          "metadata": {
            "tags": [],
            "needs_background": "light"
          }
        }
      ]
    }
  ]
}