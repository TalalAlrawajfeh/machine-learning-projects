{
  "nbformat": 4,
  "nbformat_minor": 0,
  "metadata": {
    "colab": {
      "name": "mnist_denoising_autoencoder.ipynb",
      "provenance": []
    },
    "kernelspec": {
      "name": "python3",
      "display_name": "Python 3"
    },
    "language_info": {
      "name": "python"
    },
    "accelerator": "GPU"
  },
  "cells": [
    {
      "cell_type": "code",
      "metadata": {
        "id": "Nj1bVOh1Uyb1"
      },
      "source": [
        "import random\n",
        "\n",
        "import numpy as np\n",
        "import cv2\n",
        "import tensorflow as tf\n",
        "import itertools\n",
        "\n",
        "from tensorflow.keras.datasets import mnist\n",
        "from tensorflow.keras import Model\n",
        "from tensorflow.keras.layers import Input, Conv2D, ReLU, BatchNormalization, MaxPooling2D, UpSampling2D\n",
        "from matplotlib import pyplot as plt"
      ],
      "execution_count": 4,
      "outputs": []
    },
    {
      "cell_type": "code",
      "metadata": {
        "id": "Dk73davGU0Va"
      },
      "source": [
        "def random_speckle(image, speckle_percentage, color_lambda):\n",
        "    image_copy = np.array(image)\n",
        "\n",
        "    speckles_count = int(np.prod(image.shape) * speckle_percentage)\n",
        "    speckle_coordinates = random.sample(list(itertools.product(range(image.shape[0]),\n",
        "                                                               range(image.shape[1]))),\n",
        "                                        speckles_count)\n",
        "\n",
        "    for coordinate in speckle_coordinates:\n",
        "        y, x = coordinate\n",
        "        image_copy[y, x] = color_lambda()\n",
        "\n",
        "    return image_copy\n",
        "\n",
        "\n",
        "def view_image(image):\n",
        "    plt.imshow(image, plt.cm.gray)\n",
        "    plt.show()\n",
        "\n",
        "\n",
        "def random_bool():\n",
        "    if random.randint(1, 10) <= 5:\n",
        "        return True\n",
        "    return False\n",
        "\n",
        "\n",
        "def shuffle_data(train_input_images, train_output_images):\n",
        "    indices = list(range(len(train_input_images)))\n",
        "    random.shuffle(indices)\n",
        "    temp_input_images = []\n",
        "    temp_output_images = []\n",
        "    for i in range(len(indices)):\n",
        "        temp_input_images.append(train_input_images[indices[i]])\n",
        "        temp_output_images.append(train_output_images[indices[i]])\n",
        "    train_input_images = temp_input_images\n",
        "    train_output_images = temp_output_images\n",
        "    return train_input_images, train_output_images\n",
        "\n",
        "\n",
        "def generate_input_output_images(train_images):\n",
        "    train_input_images = []\n",
        "    train_output_images = []\n",
        "    for image in train_images:\n",
        "        train_output_images.extend([image] * 5)\n",
        "        train_input_images.extend([\n",
        "            image,\n",
        "            random_speckle(image, 0.05, lambda: 255),\n",
        "            random_speckle(image, 0.05, lambda: 0),\n",
        "            random_speckle(image, 0.05, lambda: random.randint(0, 255)),\n",
        "            random_speckle(image, 0.05, lambda: 0 if random_bool() else 255),\n",
        "        ])\n",
        "    return train_input_images, train_output_images"
      ],
      "execution_count": 5,
      "outputs": []
    },
    {
      "cell_type": "code",
      "metadata": {
        "id": "SlfIYKhLChdk"
      },
      "source": [
        "def stacked_conv(filters, model):\n",
        "    model = Conv2D(filters=filters,\n",
        "                   kernel_size=(3, 3),\n",
        "                   padding='same',\n",
        "                   use_bias=False,\n",
        "                   kernel_initializer='he_normal')(model)\n",
        "    model = BatchNormalization()(model)\n",
        "    model = ReLU()(model)\n",
        "    model = Conv2D(filters=filters,\n",
        "                   kernel_size=(3, 3),\n",
        "                   padding='same',\n",
        "                   use_bias=False,\n",
        "                   kernel_initializer='he_normal')(model)\n",
        "    model = BatchNormalization()(model)\n",
        "    model = ReLU()(model)\n",
        "    return model\n",
        "\n",
        "\n",
        "def conv_block(model, filters, pooling=True):\n",
        "    model = stacked_conv(filters, model)\n",
        "    if pooling:\n",
        "        model = MaxPooling2D(pool_size=(2, 2))(model)\n",
        "    return model\n",
        "\n",
        "\n",
        "def deconv_block(model, filters, up_sampling=True):\n",
        "    model = stacked_conv(filters, model)\n",
        "    if up_sampling:\n",
        "        model = UpSampling2D(size=(2, 2))(model)\n",
        "    return model\n",
        "\n",
        "\n",
        "def build_model():\n",
        "    input_layer = Input(shape=(28, 28, 1))\n",
        "\n",
        "    encoder = conv_block(input_layer, 8)\n",
        "    encoder = conv_block(encoder, 16)\n",
        "    encoder = conv_block(encoder, 32, False)\n",
        "    encoder = conv_block(encoder, 64, False)\n",
        "\n",
        "    decoder = deconv_block(encoder, 32, False)\n",
        "    decoder = deconv_block(decoder, 16, True)\n",
        "    decoder = deconv_block(decoder, 8, True)\n",
        "\n",
        "    decoded = Conv2D(1, (3, 3), activation='sigmoid', padding='same')(decoder)\n",
        "    return Model(inputs=input_layer, outputs=decoded)\n",
        "\n",
        "\n",
        "def pre_process(image):\n",
        "    return (image / 255.0).reshape(28, 28, 1)\n",
        "\n",
        "\n",
        "def generate_data(images):\n",
        "    input_images, output_images = generate_input_output_images(random.sample(list(images), len(images) // 4))\n",
        "    input_images, output_images = shuffle_data(input_images, output_images)\n",
        "    input_images = [pre_process(image) for image in input_images]\n",
        "    output_images = [pre_process(image) for image in output_images]\n",
        "    return input_images, output_images"
      ],
      "execution_count": 6,
      "outputs": []
    },
    {
      "cell_type": "code",
      "metadata": {
        "colab": {
          "base_uri": "https://localhost:8080/",
          "height": 513
        },
        "id": "m8Ayc5ePVKN8",
        "outputId": "fdb47290-953f-4526-ea3c-d40ee4590cb3"
      },
      "source": [
        "(train_images, _), (test_images, _) = mnist.load_data()\n",
        "\n",
        "train_input_images, train_output_images = generate_data(train_images)\n",
        "test_input_images, test_output_images = generate_data(test_images)\n",
        "\n",
        "view_image(train_input_images[0].reshape(28, 28) * 255)\n",
        "view_image(train_output_images[0].reshape(28, 28) * 255)"
      ],
      "execution_count": 9,
      "outputs": [
        {
          "output_type": "display_data",
          "data": {
            "image/png": "[encoded data removed]",
            "text/plain": [
              "<Figure size 432x288 with 1 Axes>"
            ]
          },
          "metadata": {
            "tags": [],
            "needs_background": "light"
          }
        },
        {
          "output_type": "display_data",
          "data": {
            "image/png": "[encoded data removed]",
            "text/plain": [
              "<Figure size 432x288 with 1 Axes>"
            ]
          },
          "metadata": {
            "tags": [],
            "needs_background": "light"
          }
        }
      ]
    },
    {
      "cell_type": "code",
      "metadata": {
        "colab": {
          "base_uri": "https://localhost:8080/"
        },
        "id": "_lJ3w2zUVU9j",
        "outputId": "ebe47e58-b04e-49c8-9c5b-18b4af875648"
      },
      "source": [
        "model = build_model()\n",
        "model.summary()"
      ],
      "execution_count": 10,
      "outputs": [
        {
          "output_type": "stream",
          "text": [
            "Model: \"model_2\"\n",
            "_________________________________________________________________\n",
            "Layer (type)                 Output Shape              Param #   \n",
            "=================================================================\n",
            "input_3 (InputLayer)         [(None, 28, 28, 1)]       0         \n",
            "_________________________________________________________________\n",
            "conv2d_30 (Conv2D)           (None, 28, 28, 8)         72        \n",
            "_________________________________________________________________\n",
            "batch_normalization_28 (Batc (None, 28, 28, 8)         32        \n",
            "_________________________________________________________________\n",
            "re_lu_28 (ReLU)              (None, 28, 28, 8)         0         \n",
            "_________________________________________________________________\n",
            "conv2d_31 (Conv2D)           (None, 28, 28, 8)         576       \n",
            "_________________________________________________________________\n",
            "batch_normalization_29 (Batc (None, 28, 28, 8)         32        \n",
            "_________________________________________________________________\n",
            "re_lu_29 (ReLU)              (None, 28, 28, 8)         0         \n",
            "_________________________________________________________________\n",
            "max_pooling2d_4 (MaxPooling2 (None, 14, 14, 8)         0         \n",
            "_________________________________________________________________\n",
            "conv2d_32 (Conv2D)           (None, 14, 14, 16)        1152      \n",
            "_________________________________________________________________\n",
            "batch_normalization_30 (Batc (None, 14, 14, 16)        64        \n",
            "_________________________________________________________________\n",
            "re_lu_30 (ReLU)              (None, 14, 14, 16)        0         \n",
            "_________________________________________________________________\n",
            "conv2d_33 (Conv2D)           (None, 14, 14, 16)        2304      \n",
            "_________________________________________________________________\n",
            "batch_normalization_31 (Batc (None, 14, 14, 16)        64        \n",
            "_________________________________________________________________\n",
            "re_lu_31 (ReLU)              (None, 14, 14, 16)        0         \n",
            "_________________________________________________________________\n",
            "max_pooling2d_5 (MaxPooling2 (None, 7, 7, 16)          0         \n",
            "_________________________________________________________________\n",
            "conv2d_34 (Conv2D)           (None, 7, 7, 32)          4608      \n",
            "_________________________________________________________________\n",
            "batch_normalization_32 (Batc (None, 7, 7, 32)          128       \n",
            "_________________________________________________________________\n",
            "re_lu_32 (ReLU)              (None, 7, 7, 32)          0         \n",
            "_________________________________________________________________\n",
            "conv2d_35 (Conv2D)           (None, 7, 7, 32)          9216      \n",
            "_________________________________________________________________\n",
            "batch_normalization_33 (Batc (None, 7, 7, 32)          128       \n",
            "_________________________________________________________________\n",
            "re_lu_33 (ReLU)              (None, 7, 7, 32)          0         \n",
            "_________________________________________________________________\n",
            "conv2d_36 (Conv2D)           (None, 7, 7, 64)          18432     \n",
            "_________________________________________________________________\n",
            "batch_normalization_34 (Batc (None, 7, 7, 64)          256       \n",
            "_________________________________________________________________\n",
            "re_lu_34 (ReLU)              (None, 7, 7, 64)          0         \n",
            "_________________________________________________________________\n",
            "conv2d_37 (Conv2D)           (None, 7, 7, 64)          36864     \n",
            "_________________________________________________________________\n",
            "batch_normalization_35 (Batc (None, 7, 7, 64)          256       \n",
            "_________________________________________________________________\n",
            "re_lu_35 (ReLU)              (None, 7, 7, 64)          0         \n",
            "_________________________________________________________________\n",
            "conv2d_38 (Conv2D)           (None, 7, 7, 32)          18432     \n",
            "_________________________________________________________________\n",
            "batch_normalization_36 (Batc (None, 7, 7, 32)          128       \n",
            "_________________________________________________________________\n",
            "re_lu_36 (ReLU)              (None, 7, 7, 32)          0         \n",
            "_________________________________________________________________\n",
            "conv2d_39 (Conv2D)           (None, 7, 7, 32)          9216      \n",
            "_________________________________________________________________\n",
            "batch_normalization_37 (Batc (None, 7, 7, 32)          128       \n",
            "_________________________________________________________________\n",
            "re_lu_37 (ReLU)              (None, 7, 7, 32)          0         \n",
            "_________________________________________________________________\n",
            "conv2d_40 (Conv2D)           (None, 7, 7, 16)          4608      \n",
            "_________________________________________________________________\n",
            "batch_normalization_38 (Batc (None, 7, 7, 16)          64        \n",
            "_________________________________________________________________\n",
            "re_lu_38 (ReLU)              (None, 7, 7, 16)          0         \n",
            "_________________________________________________________________\n",
            "conv2d_41 (Conv2D)           (None, 7, 7, 16)          2304      \n",
            "_________________________________________________________________\n",
            "batch_normalization_39 (Batc (None, 7, 7, 16)          64        \n",
            "_________________________________________________________________\n",
            "re_lu_39 (ReLU)              (None, 7, 7, 16)          0         \n",
            "_________________________________________________________________\n",
            "up_sampling2d_4 (UpSampling2 (None, 14, 14, 16)        0         \n",
            "_________________________________________________________________\n",
            "conv2d_42 (Conv2D)           (None, 14, 14, 8)         1152      \n",
            "_________________________________________________________________\n",
            "batch_normalization_40 (Batc (None, 14, 14, 8)         32        \n",
            "_________________________________________________________________\n",
            "re_lu_40 (ReLU)              (None, 14, 14, 8)         0         \n",
            "_________________________________________________________________\n",
            "conv2d_43 (Conv2D)           (None, 14, 14, 8)         576       \n",
            "_________________________________________________________________\n",
            "batch_normalization_41 (Batc (None, 14, 14, 8)         32        \n",
            "_________________________________________________________________\n",
            "re_lu_41 (ReLU)              (None, 14, 14, 8)         0         \n",
            "_________________________________________________________________\n",
            "up_sampling2d_5 (UpSampling2 (None, 28, 28, 8)         0         \n",
            "_________________________________________________________________\n",
            "conv2d_44 (Conv2D)           (None, 28, 28, 1)         73        \n",
            "=================================================================\n",
            "Total params: 110,993\n",
            "Trainable params: 110,289\n",
            "Non-trainable params: 704\n",
            "_________________________________________________________________\n"
          ],
          "name": "stdout"
        }
      ]
    },
    {
      "cell_type": "code",
      "metadata": {
        "colab": {
          "base_uri": "https://localhost:8080/"
        },
        "id": "a5c6atEAVp5o",
        "outputId": "c26e913b-9d58-47b3-ce8e-1303637aecac"
      },
      "source": [
        "model.compile(optimizer='rmsprop',\n",
        "              loss='mse')\n",
        "\n",
        "model.fit(x=np.array(train_input_images),\n",
        "          y=np.array(train_output_images),\n",
        "          validation_data=(np.array(test_input_images),\n",
        "                            np.array(test_output_images)),\n",
        "          batch_size=32,\n",
        "          validation_batch_size=32,\n",
        "          epochs=10)"
      ],
      "execution_count": 11,
      "outputs": [
        {
          "output_type": "stream",
          "text": [
            "Epoch 1/10\n",
            "2344/2344 [==============================] - 24s 10ms/step - loss: 0.0224 - val_loss: 0.0101\n",
            "Epoch 2/10\n",
            "2344/2344 [==============================] - 22s 9ms/step - loss: 0.0062 - val_loss: 0.0060\n",
            "Epoch 3/10\n",
            "2344/2344 [==============================] - 22s 9ms/step - loss: 0.0049 - val_loss: 0.0043\n",
            "Epoch 4/10\n",
            "2344/2344 [==============================] - 22s 9ms/step - loss: 0.0043 - val_loss: 0.0045\n",
            "Epoch 5/10\n",
            "2344/2344 [==============================] - 22s 9ms/step - loss: 0.0039 - val_loss: 0.0040\n",
            "Epoch 6/10\n",
            "2344/2344 [==============================] - 22s 9ms/step - loss: 0.0036 - val_loss: 0.0033\n",
            "Epoch 7/10\n",
            "2344/2344 [==============================] - 22s 10ms/step - loss: 0.0034 - val_loss: 0.0034\n",
            "Epoch 8/10\n",
            "2344/2344 [==============================] - 22s 9ms/step - loss: 0.0033 - val_loss: 0.0033\n",
            "Epoch 9/10\n",
            "2344/2344 [==============================] - 22s 10ms/step - loss: 0.0031 - val_loss: 0.0032\n",
            "Epoch 10/10\n",
            "2344/2344 [==============================] - 23s 10ms/step - loss: 0.0030 - val_loss: 0.0035\n"
          ],
          "name": "stdout"
        },
        {
          "output_type": "execute_result",
          "data": {
            "text/plain": [
              "<tensorflow.python.keras.callbacks.History at 0x7ff25e066690>"
            ]
          },
          "metadata": {
            "tags": []
          },
          "execution_count": 11
        }
      ]
    },
    {
      "cell_type": "code",
      "metadata": {
        "colab": {
          "base_uri": "https://localhost:8080/",
          "height": 812
        },
        "id": "oh-WFGnQVs-c",
        "outputId": "233b5580-b6f2-4cb0-e0c7-0ce694207147"
      },
      "source": [
        "print('input image:')\n",
        "view_image(train_input_images[0].reshape(28, 28) * 255)\n",
        "print('predicted output:')\n",
        "view_image(model.predict(np.array([train_input_images[0]]))[0].reshape(28, 28) * 255)\n",
        "print('true output:')\n",
        "view_image(train_output_images[0].reshape(28, 28) * 255)"
      ],
      "execution_count": 14,
      "outputs": [
        {
          "output_type": "stream",
          "text": [
            "input image:\n"
          ],
          "name": "stdout"
        },
        {
          "output_type": "display_data",
          "data": {
            "image/png": "[encoded data removed]",
            "text/plain": [
              "<Figure size 432x288 with 1 Axes>"
            ]
          },
          "metadata": {
            "tags": [],
            "needs_background": "light"
          }
        },
        {
          "output_type": "stream",
          "text": [
            "predicted output:\n"
          ],
          "name": "stdout"
        },
        {
          "output_type": "display_data",
          "data": {
            "image/png": "[encoded data removed]",
            "text/plain": [
              "<Figure size 432x288 with 1 Axes>"
            ]
          },
          "metadata": {
            "tags": [],
            "needs_background": "light"
          }
        },
        {
          "output_type": "stream",
          "text": [
            "true output:\n"
          ],
          "name": "stdout"
        },
        {
          "output_type": "display_data",
          "data": {
            "image/png": "[encoded data removed]",
            "text/plain": [
              "<Figure size 432x288 with 1 Axes>"
            ]
          },
          "metadata": {
            "tags": [],
            "needs_background": "light"
          }
        }
      ]
    }
  ]
}